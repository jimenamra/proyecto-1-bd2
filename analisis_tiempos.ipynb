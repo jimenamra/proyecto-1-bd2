{
 "cells": [
  {
   "cell_type": "code",
   "execution_count": null,
   "id": "4b991a32",
   "metadata": {
    "vscode": {
     "languageId": "plaintext"
    }
   },
   "outputs": [],
   "source": [
    "import json\n",
    "import pandas as pd\n",
    "import matplotlib.pyplot as plt\n",
    "\n",
    "# Cargar métricas\n",
    "with open(\"data/timings.json\") as f:\n",
    "    data = json.load(f)\n",
    "\n",
    "df = pd.DataFrame(data)\n",
    "\n",
    "# Gráfico de tiempos promedio por operación\n",
    "summary = df.groupby(\"op\")[[\"isam_time\", \"btree_time\", \"rtree_time\"]].mean()\n",
    "\n",
    "summary.plot(kind=\"bar\", figsize=(10, 6))\n",
    "plt.title(\"Tiempo promedio por operación y estructura\")\n",
    "plt.ylabel(\"Tiempo (segundos)\")\n",
    "plt.grid(True)\n",
    "plt.show()\n"
   ]
  }
 ],
 "metadata": {
  "language_info": {
   "name": "python"
  }
 },
 "nbformat": 4,
 "nbformat_minor": 5
}
